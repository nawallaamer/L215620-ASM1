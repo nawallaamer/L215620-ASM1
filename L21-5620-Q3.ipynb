{
 "cells": [
  {
   "cell_type": "code",
   "execution_count": 1,
   "id": "b707be66",
   "metadata": {},
   "outputs": [],
   "source": [
    "import pandas as pd\n",
    "import numpy as np\n",
    "%matplotlib inline\n",
    "from matplotlib import pyplot as plt"
   ]
  },
  {
   "cell_type": "code",
   "execution_count": 2,
   "id": "c7742d2c",
   "metadata": {},
   "outputs": [],
   "source": [
    "data = pd.read_csv('StudentMarkSheet.csv')"
   ]
  },
  {
   "cell_type": "code",
   "execution_count": 3,
   "id": "2a61c6f9",
   "metadata": {},
   "outputs": [
    {
     "data": {
      "text/plain": [
       "47.89473684210526"
      ]
     },
     "execution_count": 3,
     "metadata": {},
     "output_type": "execute_result"
    }
   ],
   "source": [
    "biomarks=data.loc[(data['Exam name']=='Biology')]\n",
    "biomarks\n",
    "bioavg=biomarks['Marks'].mean()\n",
    "bioavg"
   ]
  },
  {
   "cell_type": "code",
   "execution_count": 4,
   "id": "6b4c7e41",
   "metadata": {},
   "outputs": [
    {
     "data": {
      "text/plain": [
       "50.57692307692308"
      ]
     },
     "execution_count": 4,
     "metadata": {},
     "output_type": "execute_result"
    }
   ],
   "source": [
    "chemmarks=data.loc[(data['Exam name']=='Chemistry')]\n",
    "chemmarks\n",
    "chemavg=chemmarks['Marks'].mean()\n",
    "chemavg"
   ]
  },
  {
   "cell_type": "code",
   "execution_count": 5,
   "id": "46223905",
   "metadata": {},
   "outputs": [
    {
     "data": {
      "text/plain": [
       "48.97222222222222"
      ]
     },
     "execution_count": 5,
     "metadata": {},
     "output_type": "execute_result"
    }
   ],
   "source": [
    "mathmarks=data.loc[(data['Exam name']=='Mathematics')]\n",
    "mathmarks\n",
    "mathavg=mathmarks['Marks'].mean()\n",
    "mathavg"
   ]
  },
  {
   "cell_type": "code",
   "execution_count": 6,
   "id": "b15bbb40",
   "metadata": {},
   "outputs": [
    {
     "data": {
      "text/plain": [
       "56.026315789473685"
      ]
     },
     "execution_count": 6,
     "metadata": {},
     "output_type": "execute_result"
    }
   ],
   "source": [
    "socmarks=data.loc[(data['Exam name']=='Sociology')]\n",
    "socmarks\n",
    "socavg=socmarks['Marks'].mean()\n",
    "socavg"
   ]
  },
  {
   "cell_type": "code",
   "execution_count": 7,
   "id": "3f73a402",
   "metadata": {},
   "outputs": [
    {
     "data": {
      "text/plain": [
       "51.76190476190476"
      ]
     },
     "execution_count": 7,
     "metadata": {},
     "output_type": "execute_result"
    }
   ],
   "source": [
    "phymarks=data.loc[(data['Exam name']=='Physics')]\n",
    "phymarks\n",
    "phyavg=phymarks['Marks'].mean()\n",
    "phyavg"
   ]
  },
  {
   "cell_type": "code",
   "execution_count": 8,
   "id": "5c8ee5ac",
   "metadata": {},
   "outputs": [],
   "source": [
    "average=np.array([mathavg,phyavg,chemavg,bioavg,socavg])\n",
    "subject=[\"Maths\",\"Physics\",\"Chemistry\",\"Biology\",\"Sociology\"]"
   ]
  },
  {
   "cell_type": "code",
   "execution_count": 9,
   "id": "2ea74594",
   "metadata": {},
   "outputs": [
    {
     "data": {
      "image/png": "[encoded data removed]",
      "text/plain": [
       "<Figure size 640x480 with 1 Axes>"
      ]
     },
     "metadata": {},
     "output_type": "display_data"
    }
   ],
   "source": [
    "plt.bar(range(0,5),average)\n",
    "plt.xticks(range(0,5),subject)\n",
    "plt.ylabel(\"Marks\")\n",
    "plt.xlabel(\"Subjects\")\n",
    "plt.show()"
   ]
  },
  {
   "cell_type": "code",
   "execution_count": null,
   "id": "32b6010e",
   "metadata": {},
   "outputs": [],
   "source": []
  }
 ],
 "metadata": {
  "kernelspec": {
   "display_name": "Python 3 (ipykernel)",
   "language": "python",
   "name": "python3"
  },
  "language_info": {
   "codemirror_mode": {
    "name": "ipython",
    "version": 3
   },
   "file_extension": ".py",
   "mimetype": "text/x-python",
   "name": "python",
   "nbconvert_exporter": "python",
   "pygments_lexer": "ipython3",
   "version": "3.10.7"
  }
 },
 "nbformat": 4,
 "nbformat_minor": 5
}
