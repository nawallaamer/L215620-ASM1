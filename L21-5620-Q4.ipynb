{
 "cells": [
  {
   "cell_type": "code",
   "execution_count": 1,
   "id": "f49daf33",
   "metadata": {},
   "outputs": [],
   "source": [
    "import pandas as pd\n",
    "import numpy as np\n",
    "%matplotlib inline\n",
    "from matplotlib import pyplot as plt\n",
    "from sklearn import linear_model "
   ]
  },
  {
   "cell_type": "code",
   "execution_count": 2,
   "id": "292cff9f",
   "metadata": {},
   "outputs": [],
   "source": [
    "data= pd.read_csv('CatData.csv')\n",
    "data = data.dropna(axis=0, how='any')\n",
    "div=int(len(data)*0.8)"
   ]
  },
  {
   "cell_type": "code",
   "execution_count": 3,
   "id": "118af918",
   "metadata": {},
   "outputs": [
    {
     "data": {
      "text/html": [
       "<div>\n",
       "<style scoped>\n",
       "    .dataframe tbody tr th:only-of-type {\n",
       "        vertical-align: middle;\n",
       "    }\n",
       "\n",
       "    .dataframe tbody tr th {\n",
       "        vertical-align: top;\n",
       "    }\n",
       "\n",
       "    .dataframe thead th {\n",
       "        text-align: right;\n",
       "    }\n",
       "</style>\n",
       "<table border=\"1\" class=\"dataframe\">\n",
       "  <thead>\n",
       "    <tr style=\"text-align: right;\">\n",
       "      <th></th>\n",
       "      <th>Tail Length (cm)</th>\n",
       "      <th>Mass (kg)</th>\n",
       "    </tr>\n",
       "  </thead>\n",
       "  <tbody>\n",
       "    <tr>\n",
       "      <th>0</th>\n",
       "      <td>18.1</td>\n",
       "      <td>3.750</td>\n",
       "    </tr>\n",
       "    <tr>\n",
       "      <th>1</th>\n",
       "      <td>18.6</td>\n",
       "      <td>3.800</td>\n",
       "    </tr>\n",
       "    <tr>\n",
       "      <th>2</th>\n",
       "      <td>19.5</td>\n",
       "      <td>3.250</td>\n",
       "    </tr>\n",
       "    <tr>\n",
       "      <th>3</th>\n",
       "      <td>19.3</td>\n",
       "      <td>3.450</td>\n",
       "    </tr>\n",
       "    <tr>\n",
       "      <th>4</th>\n",
       "      <td>19.0</td>\n",
       "      <td>3.650</td>\n",
       "    </tr>\n",
       "    <tr>\n",
       "      <th>...</th>\n",
       "      <td>...</td>\n",
       "      <td>...</td>\n",
       "    </tr>\n",
       "    <tr>\n",
       "      <th>337</th>\n",
       "      <td>20.7</td>\n",
       "      <td>4.000</td>\n",
       "    </tr>\n",
       "    <tr>\n",
       "      <th>338</th>\n",
       "      <td>20.2</td>\n",
       "      <td>3.400</td>\n",
       "    </tr>\n",
       "    <tr>\n",
       "      <th>339</th>\n",
       "      <td>19.3</td>\n",
       "      <td>3.775</td>\n",
       "    </tr>\n",
       "    <tr>\n",
       "      <th>340</th>\n",
       "      <td>21.0</td>\n",
       "      <td>4.100</td>\n",
       "    </tr>\n",
       "    <tr>\n",
       "      <th>341</th>\n",
       "      <td>19.8</td>\n",
       "      <td>3.775</td>\n",
       "    </tr>\n",
       "  </tbody>\n",
       "</table>\n",
       "<p>342 rows × 2 columns</p>\n",
       "</div>"
      ],
      "text/plain": [
       "     Tail Length (cm)  Mass (kg)\n",
       "0                18.1      3.750\n",
       "1                18.6      3.800\n",
       "2                19.5      3.250\n",
       "3                19.3      3.450\n",
       "4                19.0      3.650\n",
       "..                ...        ...\n",
       "337              20.7      4.000\n",
       "338              20.2      3.400\n",
       "339              19.3      3.775\n",
       "340              21.0      4.100\n",
       "341              19.8      3.775\n",
       "\n",
       "[342 rows x 2 columns]"
      ]
     },
     "execution_count": 3,
     "metadata": {},
     "output_type": "execute_result"
    }
   ],
   "source": [
    "\n",
    "data"
   ]
  },
  {
   "cell_type": "code",
   "execution_count": 4,
   "id": "eb975a00",
   "metadata": {},
   "outputs": [],
   "source": [
    "#tail length is independent\n",
    "#Mass is Dependent. "
   ]
  },
  {
   "cell_type": "code",
   "execution_count": 5,
   "id": "afc6e1d7",
   "metadata": {},
   "outputs": [],
   "source": [
    "\n",
    "train=data[:div]\n",
    "test=data[div:]"
   ]
  },
  {
   "cell_type": "code",
   "execution_count": 6,
   "id": "340ca6f3",
   "metadata": {},
   "outputs": [
    {
     "name": "stdout",
     "output_type": "stream",
     "text": [
      "data:  342\n",
      "train  273\n",
      "test:  69\n"
     ]
    }
   ],
   "source": [
    "print(\"data: \",len(data))\n",
    "print(\"train \",len(train))\n",
    "print(\"test: \",len(test))"
   ]
  },
  {
   "cell_type": "code",
   "execution_count": 7,
   "id": "50d30b5b",
   "metadata": {},
   "outputs": [],
   "source": [
    "reg=linear_model.LinearRegression()\n",
    "train_x=np.array(train[[\"Tail Length (cm)\"]])\n",
    "train_y=np.array(train[[\"Mass (kg)\"]])\n",
    "reg.fit(train_x,train_y)\n",
    "slope=reg.coef_\n",
    "intercept=reg.intercept_"
   ]
  },
  {
   "cell_type": "code",
   "execution_count": 8,
   "id": "3e393cd2",
   "metadata": {},
   "outputs": [
    {
     "name": "stdout",
     "output_type": "stream",
     "text": [
      "slope:  [[0.48913766]]\n",
      "intercept:  [-5.57328662]\n"
     ]
    }
   ],
   "source": [
    "print(\"slope: \",slope)\n",
    "print(\"intercept: \",intercept)\n"
   ]
  },
  {
   "cell_type": "code",
   "execution_count": 9,
   "id": "b4ee169a",
   "metadata": {},
   "outputs": [
    {
     "data": {
      "image/png": "[encoded data removed]",
      "text/plain": [
       "<Figure size 640x480 with 1 Axes>"
      ]
     },
     "metadata": {},
     "output_type": "display_data"
    }
   ],
   "source": [
    "plt.scatter(train[\"Tail Length (cm)\"],train[\"Mass (kg)\"],color=\"blue\")\n",
    "plt.plot(train_x,slope[0]*train_x+intercept,color=\"black\")\n",
    "plt.xlabel(\"Tail Length (cm)\")\n",
    "plt.ylabel(\"Mass (kg)\")\n",
    "plt.show()"
   ]
  },
  {
   "cell_type": "code",
   "execution_count": null,
   "id": "ebab5c6e",
   "metadata": {},
   "outputs": [],
   "source": []
  }
 ],
 "metadata": {
  "kernelspec": {
   "display_name": "Python 3 (ipykernel)",
   "language": "python",
   "name": "python3"
  },
  "language_info": {
   "codemirror_mode": {
    "name": "ipython",
    "version": 3
   },
   "file_extension": ".py",
   "mimetype": "text/x-python",
   "name": "python",
   "nbconvert_exporter": "python",
   "pygments_lexer": "ipython3",
   "version": "3.10.7"
  }
 },
 "nbformat": 4,
 "nbformat_minor": 5
}
