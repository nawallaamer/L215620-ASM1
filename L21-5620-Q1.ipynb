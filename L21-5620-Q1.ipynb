{
 "cells": [
  {
   "cell_type": "code",
   "execution_count": 1,
   "id": "52c21c35",
   "metadata": {},
   "outputs": [],
   "source": [
    "\n",
    "test1 = [[1, 2, 3],\n",
    "        [2, 3, 1],\n",
    "        [3, 1, 2]]\n",
    "\n",
    "test2 = [[1, 2, 3, 4],\n",
    "        [2, 3, 1, 3],\n",
    "        [3, 1, 2, 3],\n",
    "        [4, 4, 4, 4]]\n",
    "\n",
    "test3 = [['a', 'b', 'c'],\n",
    "        ['b', 'c', 'a'],\n",
    "        ['c', 'a', 'b']]\n",
    "\n"
   ]
  },
  {
   "cell_type": "code",
   "execution_count": 2,
   "id": "dd7234f9",
   "metadata": {},
   "outputs": [],
   "source": [
    "def check_input(array):\n",
    "    r=len(array)\n",
    "    for a in range(r):\n",
    "        for b in range(r):\n",
    "            if isinstance(array[a][b],int):\n",
    "                continue;\n",
    "            else:\n",
    "                return False\n",
    "    #colomns and rows check respectivly        \n",
    "    for a in range(r):\n",
    "        for b in range(r):\n",
    "            check=array[b][a]\n",
    "            for c in range(r):\n",
    "                 if check == array[c][a] and c!=b:\n",
    "                    return False\n",
    "                 else:\n",
    "                    continue\n",
    "                    \n",
    "    for a in range(r):\n",
    "        for b in range(r):\n",
    "            check=array[a][b]\n",
    "            for c in range(r):\n",
    "                 if check == array[a][c] & c!=b:\n",
    "                    return False\n",
    "                 else:\n",
    "                    return True\n",
    "   \n",
    "\n"
   ]
  },
  {
   "cell_type": "code",
   "execution_count": 3,
   "id": "b1053ca6",
   "metadata": {},
   "outputs": [
    {
     "name": "stdout",
     "output_type": "stream",
     "text": [
      "True\n",
      "False\n",
      "False\n"
     ]
    }
   ],
   "source": [
    "print(check_input(test1)) # must return true\n",
    "print(check_input(test2)) # must return false\n",
    "print(check_input(test3)) # must return false"
   ]
  },
  {
   "cell_type": "code",
   "execution_count": null,
   "id": "5e5b9744",
   "metadata": {},
   "outputs": [],
   "source": []
  }
 ],
 "metadata": {
  "kernelspec": {
   "display_name": "Python 3 (ipykernel)",
   "language": "python",
   "name": "python3"
  },
  "language_info": {
   "codemirror_mode": {
    "name": "ipython",
    "version": 3
   },
   "file_extension": ".py",
   "mimetype": "text/x-python",
   "name": "python",
   "nbconvert_exporter": "python",
   "pygments_lexer": "ipython3",
   "version": "3.10.7"
  }
 },
 "nbformat": 4,
 "nbformat_minor": 5
}
